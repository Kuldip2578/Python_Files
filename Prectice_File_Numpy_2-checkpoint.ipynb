{
 "cells": [
  {
   "cell_type": "code",
   "execution_count": 1,
   "id": "ff69d7d7",
   "metadata": {},
   "outputs": [],
   "source": [
    "import numpy as np"
   ]
  },
  {
   "cell_type": "code",
   "execution_count": 8,
   "id": "5b977151",
   "metadata": {},
   "outputs": [],
   "source": [
    "arr = np.array([[[1,2,3]]])"
   ]
  },
  {
   "cell_type": "code",
   "execution_count": 9,
   "id": "a2a03e94",
   "metadata": {},
   "outputs": [
    {
     "name": "stdout",
     "output_type": "stream",
     "text": [
      "[[[1 2 3]]]\n",
      "3\n"
     ]
    }
   ],
   "source": [
    "print(arr)\n",
    "print(arr.ndim)"
   ]
  },
  {
   "cell_type": "code",
   "execution_count": 27,
   "id": "4cf1751f",
   "metadata": {},
   "outputs": [],
   "source": [
    "arr1 = np.repeat(arr,6,-2)"
   ]
  },
  {
   "cell_type": "code",
   "execution_count": 28,
   "id": "6746a633",
   "metadata": {},
   "outputs": [
    {
     "name": "stdout",
     "output_type": "stream",
     "text": [
      "[[[1 2 3]\n",
      "  [1 2 3]\n",
      "  [1 2 3]\n",
      "  [1 2 3]\n",
      "  [1 2 3]\n",
      "  [1 2 3]]]\n",
      "3\n"
     ]
    }
   ],
   "source": [
    "print(arr1)\n",
    "print(arr1.ndim)"
   ]
  },
  {
   "cell_type": "code",
   "execution_count": 30,
   "id": "d0ba75bf",
   "metadata": {},
   "outputs": [
    {
     "data": {
      "text/plain": [
       "array([1, 1, 1, 2, 2, 2, 2])"
      ]
     },
     "execution_count": 30,
     "metadata": {},
     "output_type": "execute_result"
    }
   ],
   "source": [
    "np.repeat([1,2],[3,4])"
   ]
  },
  {
   "cell_type": "code",
   "execution_count": 33,
   "id": "a30dfcb8",
   "metadata": {},
   "outputs": [],
   "source": [
    "arr = np.array([[1,2],[3,4]])"
   ]
  },
  {
   "cell_type": "code",
   "execution_count": 35,
   "id": "2a6c9cab",
   "metadata": {},
   "outputs": [
    {
     "name": "stdout",
     "output_type": "stream",
     "text": [
      "[[1 2]\n",
      " [3 4]]\n",
      "2\n"
     ]
    }
   ],
   "source": [
    "print(arr)\n",
    "\n",
    "print(arr.ndim)"
   ]
  },
  {
   "cell_type": "code",
   "execution_count": 41,
   "id": "057af48d",
   "metadata": {},
   "outputs": [
    {
     "data": {
      "text/plain": [
       "array([[1, 2],\n",
       "       [1, 2],\n",
       "       [3, 4],\n",
       "       [3, 4]])"
      ]
     },
     "execution_count": 41,
     "metadata": {},
     "output_type": "execute_result"
    }
   ],
   "source": [
    "np.repeat(arr,2,0)"
   ]
  },
  {
   "cell_type": "code",
   "execution_count": 46,
   "id": "5777c423",
   "metadata": {},
   "outputs": [
    {
     "data": {
      "text/plain": [
       "array([[1, 1, 1, 1, 1, 1, 1, 1, 1, 1, 2, 2, 2, 2, 2, 2, 2, 2, 2, 2],\n",
       "       [3, 3, 3, 3, 3, 3, 3, 3, 3, 3, 4, 4, 4, 4, 4, 4, 4, 4, 4, 4]])"
      ]
     },
     "execution_count": 46,
     "metadata": {},
     "output_type": "execute_result"
    }
   ],
   "source": [
    "np.repeat(arr,10,1)"
   ]
  },
  {
   "cell_type": "code",
   "execution_count": 47,
   "id": "ca7c6a36",
   "metadata": {},
   "outputs": [
    {
     "data": {
      "text/plain": [
       "array([[[1, 2, 3],\n",
       "        [1, 2, 3],\n",
       "        [1, 2, 3],\n",
       "        [1, 2, 3],\n",
       "        [1, 2, 3],\n",
       "        [1, 2, 3]]])"
      ]
     },
     "execution_count": 47,
     "metadata": {},
     "output_type": "execute_result"
    }
   ],
   "source": [
    "arr1"
   ]
  },
  {
   "cell_type": "code",
   "execution_count": 49,
   "id": "28dbe561",
   "metadata": {},
   "outputs": [],
   "source": [
    "arr2 = np.ones((5,5), dtype = int)"
   ]
  },
  {
   "cell_type": "raw",
   "id": "c414ffe7",
   "metadata": {},
   "source": [
    "initializing an array and converting it into a require one"
   ]
  },
  {
   "cell_type": "code",
   "execution_count": 50,
   "id": "7f57b0fb",
   "metadata": {},
   "outputs": [],
   "source": [
    "arr2 = np.ones((5,5), dtype = int)"
   ]
  },
  {
   "cell_type": "code",
   "execution_count": 52,
   "id": "a1d6863a",
   "metadata": {},
   "outputs": [
    {
     "name": "stdout",
     "output_type": "stream",
     "text": [
      "[[1 1 1 1 1]\n",
      " [1 1 1 1 1]\n",
      " [1 1 1 1 1]\n",
      " [1 1 1 1 1]\n",
      " [1 1 1 1 1]]\n",
      "2\n",
      "(5, 5)\n",
      "25\n",
      "4\n",
      "<built-in method byteswap of numpy.ndarray object at 0x000001D9EF87D8D0>\n"
     ]
    }
   ],
   "source": [
    "print(arr2)\n",
    "print(arr2.ndim)\n",
    "print(arr2.shape)\n",
    "print(arr2.size)\n",
    "print(arr2.itemsize)\n",
    "print(arr2.byteswap)"
   ]
  },
  {
   "cell_type": "code",
   "execution_count": 53,
   "id": "7eafcfc9",
   "metadata": {},
   "outputs": [],
   "source": []
  },
  {
   "cell_type": "code",
   "execution_count": 54,
   "id": "b73fa82b",
   "metadata": {},
   "outputs": [],
   "source": [
    "arr2[2,2] = 9"
   ]
  },
  {
   "cell_type": "code",
   "execution_count": 55,
   "id": "5abc2e00",
   "metadata": {},
   "outputs": [
    {
     "name": "stdout",
     "output_type": "stream",
     "text": [
      "[[1 1 1 1 1]\n",
      " [1 0 0 0 1]\n",
      " [1 0 9 0 1]\n",
      " [1 0 0 0 1]\n",
      " [1 1 1 1 1]]\n"
     ]
    }
   ],
   "source": [
    "print(arr2)"
   ]
  },
  {
   "cell_type": "code",
   "execution_count": 57,
   "id": "940a753a",
   "metadata": {},
   "outputs": [
    {
     "name": "stdout",
     "output_type": "stream",
     "text": [
      "[[1 1 1 1 1]\n",
      " [1 1 1 1 1]\n",
      " [1 1 1 1 1]\n",
      " [1 1 1 1 1]\n",
      " [1 1 1 1 1]]\n",
      "[[1 1 1 1 1]\n",
      " [1 0 0 0 1]\n",
      " [1 0 0 0 1]\n",
      " [1 0 0 0 1]\n",
      " [1 1 1 1 1]]\n",
      "[[1 1 1 1 1]\n",
      " [1 0 0 0 1]\n",
      " [1 0 9 0 1]\n",
      " [1 0 0 0 1]\n",
      " [1 1 1 1 1]]\n"
     ]
    }
   ],
   "source": [
    "arr2 = np.ones((5,5), dtype = int)\n",
    "print(arr2)\n",
    "arr2[1:4,1:4] = 0\n",
    "print(arr2)\n",
    "arr2[2,2] = 9\n",
    "print(arr2)"
   ]
  },
  {
   "cell_type": "code",
   "execution_count": 60,
   "id": "1adef49a",
   "metadata": {},
   "outputs": [
    {
     "name": "stdout",
     "output_type": "stream",
     "text": [
      "[[1 1 1 1 1]\n",
      " [1 1 1 1 1]\n",
      " [1 1 1 1 1]\n",
      " [1 1 1 1 1]\n",
      " [1 1 1 1 1]]\n",
      "[[0 0 0]\n",
      " [0 9 0]\n",
      " [0 0 0]]\n"
     ]
    }
   ],
   "source": [
    "arr3 = np.ones((5,5), dtype = int)\n",
    "print(arr3)\n",
    "\n",
    "arr4 = np.zeros((3,3), dtype = int)\n",
    "arr4[1,1] = 9\n",
    "print(arr4)"
   ]
  },
  {
   "cell_type": "code",
   "execution_count": 69,
   "id": "36261f79",
   "metadata": {},
   "outputs": [
    {
     "name": "stdout",
     "output_type": "stream",
     "text": [
      "[[1 1 1 1 1]\n",
      " [1 0 0 0 1]\n",
      " [1 0 9 0 1]\n",
      " [1 0 0 0 1]\n",
      " [1 1 1 1 1]]\n"
     ]
    }
   ],
   "source": [
    "arr3[1:4,1:4] = arr4\n",
    "print(arr3)"
   ]
  },
  {
   "cell_type": "code",
   "execution_count": 82,
   "id": "faf87583",
   "metadata": {},
   "outputs": [
    {
     "name": "stdout",
     "output_type": "stream",
     "text": [
      "[1 2 3 4 5 6 7 8 9]\n",
      "[[1 2 3]\n",
      " [4 5 6]\n",
      " [7 8 9]]\n",
      "[[7 7 7 7]\n",
      " [7 7 7 7]\n",
      " [7 7 7 7]]\n"
     ]
    }
   ],
   "source": [
    "arr5 = np.array([1,2,3,4,5,6,7,8,9])\n",
    "arr6 = arr5.reshape((3,3))\n",
    "arr7 = np.full((3,4), 7)\n",
    "print(arr5)\n",
    "print(arr6)\n",
    "print(arr7)"
   ]
  },
  {
   "cell_type": "code",
   "execution_count": 87,
   "id": "ce6011f9",
   "metadata": {},
   "outputs": [
    {
     "data": {
      "text/plain": [
       "array([[ 42,  42,  42,  42],\n",
       "       [105, 105, 105, 105],\n",
       "       [168, 168, 168, 168]])"
      ]
     },
     "execution_count": 87,
     "metadata": {},
     "output_type": "execute_result"
    }
   ],
   "source": [
    "np.matmul(arr6,arr7)"
   ]
  },
  {
   "cell_type": "code",
   "execution_count": 91,
   "id": "98b58b15",
   "metadata": {},
   "outputs": [],
   "source": [
    "arr8 = np.mat(arr6, dtype = np.int32)"
   ]
  },
  {
   "cell_type": "code",
   "execution_count": 92,
   "id": "297e5640",
   "metadata": {},
   "outputs": [
    {
     "name": "stdout",
     "output_type": "stream",
     "text": [
      "[[1 2 3]\n",
      " [4 5 6]\n",
      " [7 8 9]]\n",
      "2\n",
      "(3, 3)\n",
      "9\n"
     ]
    }
   ],
   "source": [
    "print(arr8)\n",
    "print(arr8.ndim)\n",
    "print(arr8.shape)\n",
    "print(arr8.size)"
   ]
  },
  {
   "cell_type": "code",
   "execution_count": 93,
   "id": "f914f7d7",
   "metadata": {},
   "outputs": [
    {
     "data": {
      "text/plain": [
       "matrix([[-1,  0,  1],\n",
       "        [ 2,  3,  4],\n",
       "        [ 5,  6,  7]])"
      ]
     },
     "execution_count": 93,
     "metadata": {},
     "output_type": "execute_result"
    }
   ],
   "source": [
    "arr8 - 2"
   ]
  },
  {
   "cell_type": "code",
   "execution_count": 96,
   "id": "cbb1498b",
   "metadata": {},
   "outputs": [
    {
     "ename": "TypeError",
     "evalue": "'matrix' object is not callable",
     "output_type": "error",
     "traceback": [
      "\u001b[1;31m---------------------------------------------------------------------------\u001b[0m",
      "\u001b[1;31mTypeError\u001b[0m                                 Traceback (most recent call last)",
      "Input \u001b[1;32mIn [96]\u001b[0m, in \u001b[0;36m<cell line: 1>\u001b[1;34m()\u001b[0m\n\u001b[1;32m----> 1\u001b[0m \u001b[43marr8\u001b[49m\u001b[43m(\u001b[49m\u001b[43marr8\u001b[49m\u001b[43m[\u001b[49m\u001b[38;5;241;43m1\u001b[39;49m\u001b[43m:\u001b[49m\u001b[43m,\u001b[49m\u001b[38;5;241;43m1\u001b[39;49m\u001b[43m:\u001b[49m\u001b[43m]\u001b[49m\u001b[43m)\u001b[49m \u001b[38;5;241m-\u001b[39m \u001b[38;5;241m3\u001b[39m\n",
      "\u001b[1;31mTypeError\u001b[0m: 'matrix' object is not callable"
     ]
    }
   ],
   "source": [
    "arr8(arr8[1:,1:]) - 3"
   ]
  },
  {
   "cell_type": "code",
   "execution_count": 95,
   "id": "36548a90",
   "metadata": {},
   "outputs": [
    {
     "name": "stdout",
     "output_type": "stream",
     "text": [
      "[[1 2 3]\n",
      " [4 5 6]\n",
      " [7 8 9]]\n"
     ]
    }
   ],
   "source": [
    "print(arr8)"
   ]
  },
  {
   "cell_type": "code",
   "execution_count": 98,
   "id": "236ed0f9",
   "metadata": {},
   "outputs": [
    {
     "name": "stdout",
     "output_type": "stream",
     "text": [
      "[[1 2 3]\n",
      " [4 5 6]\n",
      " [7 8 9]]\n"
     ]
    }
   ],
   "source": [
    "print(arr8)"
   ]
  },
  {
   "cell_type": "code",
   "execution_count": null,
   "id": "bfb679c5",
   "metadata": {},
   "outputs": [],
   "source": []
  }
 ],
 "metadata": {
  "kernelspec": {
   "display_name": "Python 3 (ipykernel)",
   "language": "python",
   "name": "python3"
  },
  "language_info": {
   "codemirror_mode": {
    "name": "ipython",
    "version": 3
   },
   "file_extension": ".py",
   "mimetype": "text/x-python",
   "name": "python",
   "nbconvert_exporter": "python",
   "pygments_lexer": "ipython3",
   "version": "3.9.12"
  }
 },
 "nbformat": 4,
 "nbformat_minor": 5
}
